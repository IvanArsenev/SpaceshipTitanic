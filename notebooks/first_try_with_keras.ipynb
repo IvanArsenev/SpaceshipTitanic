{
 "cells": [
  {
   "cell_type": "code",
   "execution_count": 1,
   "id": "fd2d920a-6329-4410-87a0-b7ebd7aa2dd4",
   "metadata": {},
   "outputs": [],
   "source": [
    "import pandas as pd\n",
    "import numpy as np\n",
    "import keras\n",
    "from keras.models import Sequential\n",
    "from keras.layers import Dense, Dropout"
   ]
  },
  {
   "cell_type": "code",
   "execution_count": 2,
   "id": "ea136d09-88ea-4489-a169-608f751cb4ac",
   "metadata": {},
   "outputs": [],
   "source": [
    "main_df = pd.read_csv('sample_submission.csv')\n",
    "test = pd.read_csv('test.csv')\n",
    "test = pd.merge(test, main_df, on=\"PassengerId\", how=\"inner\")\n",
    "train = pd.read_csv('train.csv')"
   ]
  },
  {
   "cell_type": "code",
   "execution_count": 3,
   "id": "b81ffcf9-5694-4748-9ee5-780f1cee2a14",
   "metadata": {},
   "outputs": [
    {
     "data": {
      "text/plain": [
       "(8693, 14)"
      ]
     },
     "execution_count": 3,
     "metadata": {},
     "output_type": "execute_result"
    }
   ],
   "source": [
    "train.shape"
   ]
  },
  {
   "cell_type": "code",
   "execution_count": 4,
   "id": "11eb0464-1117-4504-b654-666d652d507c",
   "metadata": {},
   "outputs": [
    {
     "data": {
      "text/plain": [
       "(4277, 14)"
      ]
     },
     "execution_count": 4,
     "metadata": {},
     "output_type": "execute_result"
    }
   ],
   "source": [
    "test.shape"
   ]
  },
  {
   "cell_type": "code",
   "execution_count": 5,
   "id": "c7016cc6-64df-4ec7-9741-01ea1c3b7f3d",
   "metadata": {},
   "outputs": [
    {
     "name": "stdout",
     "output_type": "stream",
     "text": [
      "<class 'pandas.core.frame.DataFrame'>\n",
      "RangeIndex: 8693 entries, 0 to 8692\n",
      "Data columns (total 14 columns):\n",
      " #   Column        Non-Null Count  Dtype  \n",
      "---  ------        --------------  -----  \n",
      " 0   PassengerId   8693 non-null   object \n",
      " 1   HomePlanet    8492 non-null   object \n",
      " 2   CryoSleep     8476 non-null   object \n",
      " 3   Cabin         8494 non-null   object \n",
      " 4   Destination   8511 non-null   object \n",
      " 5   Age           8514 non-null   float64\n",
      " 6   VIP           8490 non-null   object \n",
      " 7   RoomService   8512 non-null   float64\n",
      " 8   FoodCourt     8510 non-null   float64\n",
      " 9   ShoppingMall  8485 non-null   float64\n",
      " 10  Spa           8510 non-null   float64\n",
      " 11  VRDeck        8505 non-null   float64\n",
      " 12  Name          8493 non-null   object \n",
      " 13  Transported   8693 non-null   bool   \n",
      "dtypes: bool(1), float64(6), object(7)\n",
      "memory usage: 891.5+ KB\n"
     ]
    }
   ],
   "source": [
    "train.info()"
   ]
  },
  {
   "cell_type": "code",
   "execution_count": 6,
   "id": "25c94d8c-5a4b-4484-8920-c7d6efcc9521",
   "metadata": {},
   "outputs": [
    {
     "name": "stdout",
     "output_type": "stream",
     "text": [
      "<class 'pandas.core.frame.DataFrame'>\n",
      "RangeIndex: 4277 entries, 0 to 4276\n",
      "Data columns (total 14 columns):\n",
      " #   Column        Non-Null Count  Dtype  \n",
      "---  ------        --------------  -----  \n",
      " 0   PassengerId   4277 non-null   object \n",
      " 1   HomePlanet    4190 non-null   object \n",
      " 2   CryoSleep     4184 non-null   object \n",
      " 3   Cabin         4177 non-null   object \n",
      " 4   Destination   4185 non-null   object \n",
      " 5   Age           4186 non-null   float64\n",
      " 6   VIP           4184 non-null   object \n",
      " 7   RoomService   4195 non-null   float64\n",
      " 8   FoodCourt     4171 non-null   float64\n",
      " 9   ShoppingMall  4179 non-null   float64\n",
      " 10  Spa           4176 non-null   float64\n",
      " 11  VRDeck        4197 non-null   float64\n",
      " 12  Name          4183 non-null   object \n",
      " 13  Transported   4277 non-null   bool   \n",
      "dtypes: bool(1), float64(6), object(7)\n",
      "memory usage: 438.7+ KB\n"
     ]
    }
   ],
   "source": [
    "test.info()"
   ]
  },
  {
   "cell_type": "code",
   "execution_count": 7,
   "id": "8605c7b7-22fb-4c80-b6f0-aa5f65df8cda",
   "metadata": {},
   "outputs": [],
   "source": [
    "def split_feature(df, feature, new_features, sep):\n",
    "    df[new_features] = df[feature].str.split(sep, expand=True)\n",
    "    return df"
   ]
  },
  {
   "cell_type": "code",
   "execution_count": 8,
   "id": "5e01c38c-aee0-4eff-8160-ead9c61e426c",
   "metadata": {},
   "outputs": [],
   "source": [
    "def drop_features(df, features):\n",
    "    df.drop(features, axis=1, inplace=True)\n",
    "    return df"
   ]
  },
  {
   "cell_type": "code",
   "execution_count": 9,
   "id": "5edd3a9f-6017-435a-9f1d-3d4c0b21b700",
   "metadata": {},
   "outputs": [],
   "source": [
    "def cast_feature(df, feature, cast):\n",
    "    df[feature] = df[feature].astype(cast)\n",
    "    return df"
   ]
  },
  {
   "cell_type": "code",
   "execution_count": 10,
   "id": "7bf7a37e-6c2a-45a5-adce-f28fd9101f71",
   "metadata": {},
   "outputs": [],
   "source": [
    "test = split_feature(test, 'PassengerId', ['GroupId', 'IdWithinGroup'], '_')\n",
    "train = split_feature(train, 'PassengerId', ['GroupId', 'IdWithinGroup'], '_')\n",
    "\n",
    "test = split_feature(test, 'Cabin', ['Deck', 'Num', 'Side'], '/')\n",
    "train = split_feature(train, 'Cabin', ['Deck', 'Num', 'Side'], '/')\n",
    "\n",
    "test = drop_features(test, ['Name', 'PassengerId', 'Cabin', 'VIP', 'Num', 'Destination'])\n",
    "train = drop_features(train, ['Name', 'PassengerId', 'Cabin', 'VIP', 'Num', 'Destination'])\n",
    "\n",
    "test = cast_feature(test, 'GroupId', 'float')\n",
    "train = cast_feature(train, 'GroupId', 'float')"
   ]
  },
  {
   "cell_type": "code",
   "execution_count": 11,
   "id": "ca5cbd2f-d31e-48de-83f1-a59bfff0ac06",
   "metadata": {},
   "outputs": [
    {
     "data": {
      "text/plain": [
       "HomePlanet       201\n",
       "CryoSleep        217\n",
       "Age              179\n",
       "RoomService      181\n",
       "FoodCourt        183\n",
       "ShoppingMall     208\n",
       "Spa              183\n",
       "VRDeck           188\n",
       "Transported        0\n",
       "GroupId            0\n",
       "IdWithinGroup      0\n",
       "Deck             199\n",
       "Side             199\n",
       "dtype: int64"
      ]
     },
     "execution_count": 11,
     "metadata": {},
     "output_type": "execute_result"
    }
   ],
   "source": [
    "train.isnull().sum()"
   ]
  },
  {
   "cell_type": "code",
   "execution_count": 12,
   "id": "b597d8a4-9c61-453a-86ed-d9977b407aca",
   "metadata": {},
   "outputs": [
    {
     "data": {
      "text/plain": [
       "HomePlanet        87\n",
       "CryoSleep         93\n",
       "Age               91\n",
       "RoomService       82\n",
       "FoodCourt        106\n",
       "ShoppingMall      98\n",
       "Spa              101\n",
       "VRDeck            80\n",
       "Transported        0\n",
       "GroupId            0\n",
       "IdWithinGroup      0\n",
       "Deck             100\n",
       "Side             100\n",
       "dtype: int64"
      ]
     },
     "execution_count": 12,
     "metadata": {},
     "output_type": "execute_result"
    }
   ],
   "source": [
    "test.isnull().sum()"
   ]
  },
  {
   "cell_type": "code",
   "execution_count": 13,
   "id": "2a9c5576-e82a-476e-a161-f875c4f2db92",
   "metadata": {},
   "outputs": [],
   "source": [
    "train = train.replace({True: 1, False: 0})\n",
    "test = test.replace({True: 1, False: 0})"
   ]
  },
  {
   "cell_type": "code",
   "execution_count": 14,
   "id": "4e69704f-fe38-41b2-8b8e-d73f5fd8a9e5",
   "metadata": {},
   "outputs": [
    {
     "data": {
      "text/html": [
       "<div>\n",
       "<style scoped>\n",
       "    .dataframe tbody tr th:only-of-type {\n",
       "        vertical-align: middle;\n",
       "    }\n",
       "\n",
       "    .dataframe tbody tr th {\n",
       "        vertical-align: top;\n",
       "    }\n",
       "\n",
       "    .dataframe thead th {\n",
       "        text-align: right;\n",
       "    }\n",
       "</style>\n",
       "<table border=\"1\" class=\"dataframe\">\n",
       "  <thead>\n",
       "    <tr style=\"text-align: right;\">\n",
       "      <th></th>\n",
       "      <th>HomePlanet</th>\n",
       "      <th>CryoSleep</th>\n",
       "      <th>Age</th>\n",
       "      <th>RoomService</th>\n",
       "      <th>FoodCourt</th>\n",
       "      <th>ShoppingMall</th>\n",
       "      <th>Spa</th>\n",
       "      <th>VRDeck</th>\n",
       "      <th>Transported</th>\n",
       "      <th>GroupId</th>\n",
       "      <th>IdWithinGroup</th>\n",
       "      <th>Deck</th>\n",
       "      <th>Side</th>\n",
       "    </tr>\n",
       "  </thead>\n",
       "  <tbody>\n",
       "    <tr>\n",
       "      <th>0</th>\n",
       "      <td>Europa</td>\n",
       "      <td>0.0</td>\n",
       "      <td>39.0</td>\n",
       "      <td>0.0</td>\n",
       "      <td>0.0</td>\n",
       "      <td>0.0</td>\n",
       "      <td>0.0</td>\n",
       "      <td>0.0</td>\n",
       "      <td>0</td>\n",
       "      <td>1.0</td>\n",
       "      <td>01</td>\n",
       "      <td>B</td>\n",
       "      <td>P</td>\n",
       "    </tr>\n",
       "    <tr>\n",
       "      <th>1</th>\n",
       "      <td>Earth</td>\n",
       "      <td>0.0</td>\n",
       "      <td>24.0</td>\n",
       "      <td>109.0</td>\n",
       "      <td>9.0</td>\n",
       "      <td>25.0</td>\n",
       "      <td>549.0</td>\n",
       "      <td>44.0</td>\n",
       "      <td>1</td>\n",
       "      <td>2.0</td>\n",
       "      <td>01</td>\n",
       "      <td>F</td>\n",
       "      <td>S</td>\n",
       "    </tr>\n",
       "    <tr>\n",
       "      <th>2</th>\n",
       "      <td>Europa</td>\n",
       "      <td>0.0</td>\n",
       "      <td>58.0</td>\n",
       "      <td>43.0</td>\n",
       "      <td>3576.0</td>\n",
       "      <td>0.0</td>\n",
       "      <td>6715.0</td>\n",
       "      <td>49.0</td>\n",
       "      <td>0</td>\n",
       "      <td>3.0</td>\n",
       "      <td>01</td>\n",
       "      <td>A</td>\n",
       "      <td>S</td>\n",
       "    </tr>\n",
       "    <tr>\n",
       "      <th>3</th>\n",
       "      <td>Europa</td>\n",
       "      <td>0.0</td>\n",
       "      <td>33.0</td>\n",
       "      <td>0.0</td>\n",
       "      <td>1283.0</td>\n",
       "      <td>371.0</td>\n",
       "      <td>3329.0</td>\n",
       "      <td>193.0</td>\n",
       "      <td>0</td>\n",
       "      <td>3.0</td>\n",
       "      <td>02</td>\n",
       "      <td>A</td>\n",
       "      <td>S</td>\n",
       "    </tr>\n",
       "    <tr>\n",
       "      <th>4</th>\n",
       "      <td>Earth</td>\n",
       "      <td>0.0</td>\n",
       "      <td>16.0</td>\n",
       "      <td>303.0</td>\n",
       "      <td>70.0</td>\n",
       "      <td>151.0</td>\n",
       "      <td>565.0</td>\n",
       "      <td>2.0</td>\n",
       "      <td>1</td>\n",
       "      <td>4.0</td>\n",
       "      <td>01</td>\n",
       "      <td>F</td>\n",
       "      <td>S</td>\n",
       "    </tr>\n",
       "    <tr>\n",
       "      <th>...</th>\n",
       "      <td>...</td>\n",
       "      <td>...</td>\n",
       "      <td>...</td>\n",
       "      <td>...</td>\n",
       "      <td>...</td>\n",
       "      <td>...</td>\n",
       "      <td>...</td>\n",
       "      <td>...</td>\n",
       "      <td>...</td>\n",
       "      <td>...</td>\n",
       "      <td>...</td>\n",
       "      <td>...</td>\n",
       "      <td>...</td>\n",
       "    </tr>\n",
       "    <tr>\n",
       "      <th>8688</th>\n",
       "      <td>Europa</td>\n",
       "      <td>0.0</td>\n",
       "      <td>41.0</td>\n",
       "      <td>0.0</td>\n",
       "      <td>6819.0</td>\n",
       "      <td>0.0</td>\n",
       "      <td>1643.0</td>\n",
       "      <td>74.0</td>\n",
       "      <td>0</td>\n",
       "      <td>9276.0</td>\n",
       "      <td>01</td>\n",
       "      <td>A</td>\n",
       "      <td>P</td>\n",
       "    </tr>\n",
       "    <tr>\n",
       "      <th>8689</th>\n",
       "      <td>Earth</td>\n",
       "      <td>1.0</td>\n",
       "      <td>18.0</td>\n",
       "      <td>0.0</td>\n",
       "      <td>0.0</td>\n",
       "      <td>0.0</td>\n",
       "      <td>0.0</td>\n",
       "      <td>0.0</td>\n",
       "      <td>0</td>\n",
       "      <td>9278.0</td>\n",
       "      <td>01</td>\n",
       "      <td>G</td>\n",
       "      <td>S</td>\n",
       "    </tr>\n",
       "    <tr>\n",
       "      <th>8690</th>\n",
       "      <td>Earth</td>\n",
       "      <td>0.0</td>\n",
       "      <td>26.0</td>\n",
       "      <td>0.0</td>\n",
       "      <td>0.0</td>\n",
       "      <td>1872.0</td>\n",
       "      <td>1.0</td>\n",
       "      <td>0.0</td>\n",
       "      <td>1</td>\n",
       "      <td>9279.0</td>\n",
       "      <td>01</td>\n",
       "      <td>G</td>\n",
       "      <td>S</td>\n",
       "    </tr>\n",
       "    <tr>\n",
       "      <th>8691</th>\n",
       "      <td>Europa</td>\n",
       "      <td>0.0</td>\n",
       "      <td>32.0</td>\n",
       "      <td>0.0</td>\n",
       "      <td>1049.0</td>\n",
       "      <td>0.0</td>\n",
       "      <td>353.0</td>\n",
       "      <td>3235.0</td>\n",
       "      <td>0</td>\n",
       "      <td>9280.0</td>\n",
       "      <td>01</td>\n",
       "      <td>E</td>\n",
       "      <td>S</td>\n",
       "    </tr>\n",
       "    <tr>\n",
       "      <th>8692</th>\n",
       "      <td>Europa</td>\n",
       "      <td>0.0</td>\n",
       "      <td>44.0</td>\n",
       "      <td>126.0</td>\n",
       "      <td>4688.0</td>\n",
       "      <td>0.0</td>\n",
       "      <td>0.0</td>\n",
       "      <td>12.0</td>\n",
       "      <td>1</td>\n",
       "      <td>9280.0</td>\n",
       "      <td>02</td>\n",
       "      <td>E</td>\n",
       "      <td>S</td>\n",
       "    </tr>\n",
       "  </tbody>\n",
       "</table>\n",
       "<p>8693 rows × 13 columns</p>\n",
       "</div>"
      ],
      "text/plain": [
       "     HomePlanet  CryoSleep   Age  RoomService  FoodCourt  ShoppingMall  \\\n",
       "0        Europa        0.0  39.0          0.0        0.0           0.0   \n",
       "1         Earth        0.0  24.0        109.0        9.0          25.0   \n",
       "2        Europa        0.0  58.0         43.0     3576.0           0.0   \n",
       "3        Europa        0.0  33.0          0.0     1283.0         371.0   \n",
       "4         Earth        0.0  16.0        303.0       70.0         151.0   \n",
       "...         ...        ...   ...          ...        ...           ...   \n",
       "8688     Europa        0.0  41.0          0.0     6819.0           0.0   \n",
       "8689      Earth        1.0  18.0          0.0        0.0           0.0   \n",
       "8690      Earth        0.0  26.0          0.0        0.0        1872.0   \n",
       "8691     Europa        0.0  32.0          0.0     1049.0           0.0   \n",
       "8692     Europa        0.0  44.0        126.0     4688.0           0.0   \n",
       "\n",
       "         Spa  VRDeck  Transported  GroupId IdWithinGroup Deck Side  \n",
       "0        0.0     0.0            0      1.0            01    B    P  \n",
       "1      549.0    44.0            1      2.0            01    F    S  \n",
       "2     6715.0    49.0            0      3.0            01    A    S  \n",
       "3     3329.0   193.0            0      3.0            02    A    S  \n",
       "4      565.0     2.0            1      4.0            01    F    S  \n",
       "...      ...     ...          ...      ...           ...  ...  ...  \n",
       "8688  1643.0    74.0            0   9276.0            01    A    P  \n",
       "8689     0.0     0.0            0   9278.0            01    G    S  \n",
       "8690     1.0     0.0            1   9279.0            01    G    S  \n",
       "8691   353.0  3235.0            0   9280.0            01    E    S  \n",
       "8692     0.0    12.0            1   9280.0            02    E    S  \n",
       "\n",
       "[8693 rows x 13 columns]"
      ]
     },
     "execution_count": 14,
     "metadata": {},
     "output_type": "execute_result"
    }
   ],
   "source": [
    "train"
   ]
  },
  {
   "cell_type": "code",
   "execution_count": 15,
   "id": "d9cce95f-132d-498c-806c-2ba53cd238b7",
   "metadata": {},
   "outputs": [],
   "source": [
    "def impute_cryo_sleep(df):\n",
    "    df.loc[\n",
    "        ((df['RoomService'] == 0.0) | df['RoomService'].isnull()) & \n",
    "        ((df['FoodCourt'] == 0.0) | df['FoodCourt'].isnull()) & \n",
    "        ((df['ShoppingMall'] == 0.0) | df['ShoppingMall'].isnull()) & \n",
    "        ((df['Spa'] == 0.0) | df['Spa'].isnull()) &\n",
    "        ((df['VRDeck'] == 0.0) | df['VRDeck'].isnull()) &\n",
    "        (df['CryoSleep'].isnull()), \n",
    "        'CryoSleep'\n",
    "    ] = True\n",
    "    \n",
    "    df.loc[\n",
    "        ((df['RoomService'] > 0.0) | \n",
    "        (df['FoodCourt'] > 0.0) | \n",
    "        (df['ShoppingMall'] > 0.0) | \n",
    "        (df['Spa'] > 0.0) |\n",
    "        (df['VRDeck'] > 0.0)) & (df['CryoSleep'].isnull()), \n",
    "        'CryoSleep'\n",
    "    ] = False\n",
    "impute_cryo_sleep(train)\n",
    "impute_cryo_sleep(test)"
   ]
  },
  {
   "cell_type": "code",
   "execution_count": 16,
   "id": "7ee50c82-14d8-4d8a-bdc0-a2f2db32315e",
   "metadata": {},
   "outputs": [
    {
     "data": {
      "text/plain": [
       "HomePlanet       201\n",
       "CryoSleep          0\n",
       "Age              179\n",
       "RoomService      181\n",
       "FoodCourt        183\n",
       "ShoppingMall     208\n",
       "Spa              183\n",
       "VRDeck           188\n",
       "Transported        0\n",
       "GroupId            0\n",
       "IdWithinGroup      0\n",
       "Deck             199\n",
       "Side             199\n",
       "dtype: int64"
      ]
     },
     "execution_count": 16,
     "metadata": {},
     "output_type": "execute_result"
    }
   ],
   "source": [
    "train.isnull().sum()"
   ]
  },
  {
   "cell_type": "code",
   "execution_count": 17,
   "id": "78144fcc-2784-4025-9cbb-44c1df603f66",
   "metadata": {},
   "outputs": [],
   "source": [
    "def impute_home_planet_by_deck(df):\n",
    "    df.loc[\n",
    "        (df['Deck'] == 'G') & (df['HomePlanet'].isnull()), \n",
    "        'HomePlanet'\n",
    "    ] = 'Earth'\n",
    "    \n",
    "    europa_decks = ['A', 'B', 'C', 'T']\n",
    "    df.loc[\n",
    "        (df['Deck'].isin(europa_decks)) & (df['HomePlanet'].isnull()), \n",
    "        'HomePlanet'\n",
    "    ] = 'Europa'\n",
    "\n",
    "impute_home_planet_by_deck(train)\n",
    "impute_home_planet_by_deck(test)"
   ]
  },
  {
   "cell_type": "code",
   "execution_count": 18,
   "id": "271f20c6-2234-49ee-aab4-1b7f440b7024",
   "metadata": {},
   "outputs": [
    {
     "data": {
      "text/plain": [
       "HomePlanet       109\n",
       "CryoSleep          0\n",
       "Age              179\n",
       "RoomService      181\n",
       "FoodCourt        183\n",
       "ShoppingMall     208\n",
       "Spa              183\n",
       "VRDeck           188\n",
       "Transported        0\n",
       "GroupId            0\n",
       "IdWithinGroup      0\n",
       "Deck             199\n",
       "Side             199\n",
       "dtype: int64"
      ]
     },
     "execution_count": 18,
     "metadata": {},
     "output_type": "execute_result"
    }
   ],
   "source": [
    "train.isnull().sum()"
   ]
  },
  {
   "cell_type": "code",
   "execution_count": 19,
   "id": "4b29295d-432a-48e2-9f6c-2268181810a1",
   "metadata": {},
   "outputs": [],
   "source": [
    "home_planet_deck = train.groupby(['HomePlanet', 'Deck']).size().unstack().fillna(0)\n",
    "earth = home_planet_deck.loc['Earth']\n",
    "earth_proba = list(earth / sum(earth))\n",
    "\n",
    "europa = home_planet_deck.loc['Europa']\n",
    "europa_proba = list(europa / sum(europa))\n",
    "\n",
    "mars = home_planet_deck.loc['Mars']\n",
    "mars_proba = list(mars / sum(mars))\n",
    "\n",
    "decks = train['Deck'].unique()\n",
    "deck_values = sorted(decks[~pd.isnull(decks)])\n",
    "planet_proba = dict(zip(['Earth', 'Mars', 'Europa'], [earth_proba, mars_proba, europa_proba]))\n",
    "\n",
    "np.random.seed(2403)\n",
    "\n",
    "def impute_deck_by_home_planet(df):\n",
    "    for planet in planet_proba.keys():\n",
    "        planet_null_decks_shape = df.loc[(df['HomePlanet'] == planet) & (df['Deck'].isnull()), 'Deck'].shape[0]\n",
    "        df.loc[(df['HomePlanet'] == planet) & (df['Deck'].isnull()), 'Deck'] = np.random.choice(\n",
    "            deck_values,\n",
    "            planet_null_decks_shape,\n",
    "            p=planet_proba[planet]\n",
    "        )\n",
    "        \n",
    "impute_deck_by_home_planet(train)\n",
    "impute_deck_by_home_planet(test)"
   ]
  },
  {
   "cell_type": "code",
   "execution_count": 20,
   "id": "df5c0490-26e1-4031-9e4a-1bb21430f538",
   "metadata": {},
   "outputs": [
    {
     "data": {
      "text/plain": [
       "HomePlanet       109\n",
       "CryoSleep          0\n",
       "Age              179\n",
       "RoomService      181\n",
       "FoodCourt        183\n",
       "ShoppingMall     208\n",
       "Spa              183\n",
       "VRDeck           188\n",
       "Transported        0\n",
       "GroupId            0\n",
       "IdWithinGroup      0\n",
       "Deck               6\n",
       "Side             199\n",
       "dtype: int64"
      ]
     },
     "execution_count": 20,
     "metadata": {},
     "output_type": "execute_result"
    }
   ],
   "source": [
    "train.isnull().sum()"
   ]
  },
  {
   "cell_type": "code",
   "execution_count": 21,
   "id": "869a5338-379c-4581-8dd1-fec2eb4e8fef",
   "metadata": {},
   "outputs": [
    {
     "data": {
      "text/html": [
       "<div>\n",
       "<style scoped>\n",
       "    .dataframe tbody tr th:only-of-type {\n",
       "        vertical-align: middle;\n",
       "    }\n",
       "\n",
       "    .dataframe tbody tr th {\n",
       "        vertical-align: top;\n",
       "    }\n",
       "\n",
       "    .dataframe thead th {\n",
       "        text-align: right;\n",
       "    }\n",
       "</style>\n",
       "<table border=\"1\" class=\"dataframe\">\n",
       "  <thead>\n",
       "    <tr style=\"text-align: right;\">\n",
       "      <th></th>\n",
       "      <th>HomePlanet</th>\n",
       "      <th>CryoSleep</th>\n",
       "      <th>Age</th>\n",
       "      <th>RoomService</th>\n",
       "      <th>FoodCourt</th>\n",
       "      <th>ShoppingMall</th>\n",
       "      <th>Spa</th>\n",
       "      <th>VRDeck</th>\n",
       "      <th>Transported</th>\n",
       "      <th>GroupId</th>\n",
       "      <th>IdWithinGroup</th>\n",
       "      <th>Deck</th>\n",
       "      <th>Side</th>\n",
       "    </tr>\n",
       "  </thead>\n",
       "  <tbody>\n",
       "    <tr>\n",
       "      <th>1550</th>\n",
       "      <td>NaN</td>\n",
       "      <td>1.0</td>\n",
       "      <td>18.0</td>\n",
       "      <td>0.0</td>\n",
       "      <td>0.0</td>\n",
       "      <td>0.0</td>\n",
       "      <td>0.0</td>\n",
       "      <td>0.0</td>\n",
       "      <td>0</td>\n",
       "      <td>1645.0</td>\n",
       "      <td>01</td>\n",
       "      <td>NaN</td>\n",
       "      <td>NaN</td>\n",
       "    </tr>\n",
       "    <tr>\n",
       "      <th>1714</th>\n",
       "      <td>NaN</td>\n",
       "      <td>0.0</td>\n",
       "      <td>67.0</td>\n",
       "      <td>143.0</td>\n",
       "      <td>68.0</td>\n",
       "      <td>496.0</td>\n",
       "      <td>182.0</td>\n",
       "      <td>9.0</td>\n",
       "      <td>1</td>\n",
       "      <td>1823.0</td>\n",
       "      <td>01</td>\n",
       "      <td>NaN</td>\n",
       "      <td>NaN</td>\n",
       "    </tr>\n",
       "    <tr>\n",
       "      <th>2227</th>\n",
       "      <td>NaN</td>\n",
       "      <td>1.0</td>\n",
       "      <td>11.0</td>\n",
       "      <td>0.0</td>\n",
       "      <td>0.0</td>\n",
       "      <td>0.0</td>\n",
       "      <td>0.0</td>\n",
       "      <td>0.0</td>\n",
       "      <td>1</td>\n",
       "      <td>2384.0</td>\n",
       "      <td>07</td>\n",
       "      <td>NaN</td>\n",
       "      <td>NaN</td>\n",
       "    </tr>\n",
       "    <tr>\n",
       "      <th>3858</th>\n",
       "      <td>NaN</td>\n",
       "      <td>1.0</td>\n",
       "      <td>40.0</td>\n",
       "      <td>0.0</td>\n",
       "      <td>0.0</td>\n",
       "      <td>0.0</td>\n",
       "      <td>0.0</td>\n",
       "      <td>0.0</td>\n",
       "      <td>1</td>\n",
       "      <td>4134.0</td>\n",
       "      <td>01</td>\n",
       "      <td>NaN</td>\n",
       "      <td>NaN</td>\n",
       "    </tr>\n",
       "    <tr>\n",
       "      <th>6267</th>\n",
       "      <td>NaN</td>\n",
       "      <td>1.0</td>\n",
       "      <td>64.0</td>\n",
       "      <td>0.0</td>\n",
       "      <td>0.0</td>\n",
       "      <td>0.0</td>\n",
       "      <td>0.0</td>\n",
       "      <td>0.0</td>\n",
       "      <td>1</td>\n",
       "      <td>6634.0</td>\n",
       "      <td>02</td>\n",
       "      <td>NaN</td>\n",
       "      <td>NaN</td>\n",
       "    </tr>\n",
       "    <tr>\n",
       "      <th>7293</th>\n",
       "      <td>NaN</td>\n",
       "      <td>0.0</td>\n",
       "      <td>21.0</td>\n",
       "      <td>1720.0</td>\n",
       "      <td>2337.0</td>\n",
       "      <td>0.0</td>\n",
       "      <td>1.0</td>\n",
       "      <td>335.0</td>\n",
       "      <td>0</td>\n",
       "      <td>7801.0</td>\n",
       "      <td>01</td>\n",
       "      <td>NaN</td>\n",
       "      <td>NaN</td>\n",
       "    </tr>\n",
       "  </tbody>\n",
       "</table>\n",
       "</div>"
      ],
      "text/plain": [
       "     HomePlanet CryoSleep   Age  RoomService  FoodCourt  ShoppingMall    Spa  \\\n",
       "1550        NaN       1.0  18.0          0.0        0.0           0.0    0.0   \n",
       "1714        NaN       0.0  67.0        143.0       68.0         496.0  182.0   \n",
       "2227        NaN       1.0  11.0          0.0        0.0           0.0    0.0   \n",
       "3858        NaN       1.0  40.0          0.0        0.0           0.0    0.0   \n",
       "6267        NaN       1.0  64.0          0.0        0.0           0.0    0.0   \n",
       "7293        NaN       0.0  21.0       1720.0     2337.0           0.0    1.0   \n",
       "\n",
       "      VRDeck  Transported  GroupId IdWithinGroup Deck Side  \n",
       "1550     0.0            0   1645.0            01  NaN  NaN  \n",
       "1714     9.0            1   1823.0            01  NaN  NaN  \n",
       "2227     0.0            1   2384.0            07  NaN  NaN  \n",
       "3858     0.0            1   4134.0            01  NaN  NaN  \n",
       "6267     0.0            1   6634.0            02  NaN  NaN  \n",
       "7293   335.0            0   7801.0            01  NaN  NaN  "
      ]
     },
     "execution_count": 21,
     "metadata": {},
     "output_type": "execute_result"
    }
   ],
   "source": [
    "train[train['Deck'].isnull()]"
   ]
  },
  {
   "cell_type": "code",
   "execution_count": 22,
   "id": "7ae26aba-a379-4e85-afdf-42ea745470f5",
   "metadata": {},
   "outputs": [],
   "source": [
    "def impute_age_by_planet(df):\n",
    "    for planet in ['Europa', 'Earth', 'Mars']:\n",
    "        planet_median = df[df['HomePlanet'] == planet]['Age'].median()\n",
    "        df.loc[(df['Age'].isnull()) & (df['HomePlanet'] == planet), 'Age'] = planet_median\n",
    "impute_age_by_planet(train)\n",
    "impute_age_by_planet(test)"
   ]
  },
  {
   "cell_type": "code",
   "execution_count": 23,
   "id": "6da0014f-3203-4eb4-bd5e-c6336e7607d4",
   "metadata": {},
   "outputs": [
    {
     "data": {
      "text/plain": [
       "HomePlanet       109\n",
       "CryoSleep          0\n",
       "Age                0\n",
       "RoomService      181\n",
       "FoodCourt        183\n",
       "ShoppingMall     208\n",
       "Spa              183\n",
       "VRDeck           188\n",
       "Transported        0\n",
       "GroupId            0\n",
       "IdWithinGroup      0\n",
       "Deck               6\n",
       "Side             199\n",
       "dtype: int64"
      ]
     },
     "execution_count": 23,
     "metadata": {},
     "output_type": "execute_result"
    }
   ],
   "source": [
    "train.isnull().sum()"
   ]
  },
  {
   "cell_type": "code",
   "execution_count": 24,
   "id": "e5a77d2e-618d-47b9-a621-c23a35c4f2c5",
   "metadata": {},
   "outputs": [],
   "source": [
    "def impute_usluga_by_age(df):\n",
    "    uniq_age = df['Age'].unique()\n",
    "    uslugi = ['RoomService', 'FoodCourt', 'ShoppingMall', 'Spa', 'VRDeck']\n",
    "    for age in uniq_age:\n",
    "        for usluga in uslugi:\n",
    "            usluga_median = df[df['Age'] == age][usluga].median()\n",
    "            df.loc[(df[usluga].isnull()) & (df['Age'] == age), usluga] = usluga_median\n",
    "\n",
    "impute_usluga_by_age(train)\n",
    "impute_usluga_by_age(test)"
   ]
  },
  {
   "cell_type": "code",
   "execution_count": 25,
   "id": "a4ebbc1c-9177-4713-8303-5e6ac58edf61",
   "metadata": {},
   "outputs": [
    {
     "data": {
      "text/plain": [
       "HomePlanet       109\n",
       "CryoSleep          0\n",
       "Age                0\n",
       "RoomService        0\n",
       "FoodCourt          0\n",
       "ShoppingMall       0\n",
       "Spa                0\n",
       "VRDeck             0\n",
       "Transported        0\n",
       "GroupId            0\n",
       "IdWithinGroup      0\n",
       "Deck               6\n",
       "Side             199\n",
       "dtype: int64"
      ]
     },
     "execution_count": 25,
     "metadata": {},
     "output_type": "execute_result"
    }
   ],
   "source": [
    "train.isnull().sum()"
   ]
  },
  {
   "cell_type": "code",
   "execution_count": 26,
   "id": "acffb581-c338-4bd2-ac31-b143e34f7970",
   "metadata": {},
   "outputs": [],
   "source": [
    "train = train[~ (train['Deck'].isnull() & train['HomePlanet'].isnull())]\n",
    "test = test[~ (test['Deck'].isnull() & test['HomePlanet'].isnull())]"
   ]
  },
  {
   "cell_type": "code",
   "execution_count": 27,
   "id": "4b36a730-5c60-4734-8107-36e0733d0b59",
   "metadata": {},
   "outputs": [
    {
     "data": {
      "text/html": [
       "<div>\n",
       "<style scoped>\n",
       "    .dataframe tbody tr th:only-of-type {\n",
       "        vertical-align: middle;\n",
       "    }\n",
       "\n",
       "    .dataframe tbody tr th {\n",
       "        vertical-align: top;\n",
       "    }\n",
       "\n",
       "    .dataframe thead th {\n",
       "        text-align: right;\n",
       "    }\n",
       "</style>\n",
       "<table border=\"1\" class=\"dataframe\">\n",
       "  <thead>\n",
       "    <tr style=\"text-align: right;\">\n",
       "      <th></th>\n",
       "      <th>HomePlanet</th>\n",
       "      <th>CryoSleep</th>\n",
       "      <th>Age</th>\n",
       "      <th>RoomService</th>\n",
       "      <th>FoodCourt</th>\n",
       "      <th>ShoppingMall</th>\n",
       "      <th>Spa</th>\n",
       "      <th>VRDeck</th>\n",
       "      <th>Transported</th>\n",
       "      <th>GroupId</th>\n",
       "      <th>IdWithinGroup</th>\n",
       "      <th>Deck</th>\n",
       "      <th>Side</th>\n",
       "    </tr>\n",
       "  </thead>\n",
       "  <tbody>\n",
       "    <tr>\n",
       "      <th>59</th>\n",
       "      <td>NaN</td>\n",
       "      <td>1.0</td>\n",
       "      <td>33.0</td>\n",
       "      <td>0.0</td>\n",
       "      <td>0.0</td>\n",
       "      <td>0.0</td>\n",
       "      <td>0.0</td>\n",
       "      <td>0.0</td>\n",
       "      <td>1</td>\n",
       "      <td>64.0</td>\n",
       "      <td>02</td>\n",
       "      <td>E</td>\n",
       "      <td>S</td>\n",
       "    </tr>\n",
       "    <tr>\n",
       "      <th>186</th>\n",
       "      <td>NaN</td>\n",
       "      <td>1.0</td>\n",
       "      <td>24.0</td>\n",
       "      <td>0.0</td>\n",
       "      <td>0.0</td>\n",
       "      <td>0.0</td>\n",
       "      <td>0.0</td>\n",
       "      <td>0.0</td>\n",
       "      <td>1</td>\n",
       "      <td>210.0</td>\n",
       "      <td>01</td>\n",
       "      <td>D</td>\n",
       "      <td>P</td>\n",
       "    </tr>\n",
       "    <tr>\n",
       "      <th>225</th>\n",
       "      <td>NaN</td>\n",
       "      <td>0.0</td>\n",
       "      <td>18.0</td>\n",
       "      <td>313.0</td>\n",
       "      <td>1.0</td>\n",
       "      <td>691.0</td>\n",
       "      <td>283.0</td>\n",
       "      <td>0.0</td>\n",
       "      <td>0</td>\n",
       "      <td>242.0</td>\n",
       "      <td>01</td>\n",
       "      <td>F</td>\n",
       "      <td>S</td>\n",
       "    </tr>\n",
       "    <tr>\n",
       "      <th>291</th>\n",
       "      <td>NaN</td>\n",
       "      <td>0.0</td>\n",
       "      <td>59.0</td>\n",
       "      <td>1018.0</td>\n",
       "      <td>0.0</td>\n",
       "      <td>209.0</td>\n",
       "      <td>0.0</td>\n",
       "      <td>0.0</td>\n",
       "      <td>0</td>\n",
       "      <td>321.0</td>\n",
       "      <td>01</td>\n",
       "      <td>F</td>\n",
       "      <td>S</td>\n",
       "    </tr>\n",
       "    <tr>\n",
       "      <th>365</th>\n",
       "      <td>NaN</td>\n",
       "      <td>1.0</td>\n",
       "      <td>32.0</td>\n",
       "      <td>0.0</td>\n",
       "      <td>0.0</td>\n",
       "      <td>0.0</td>\n",
       "      <td>0.0</td>\n",
       "      <td>0.0</td>\n",
       "      <td>1</td>\n",
       "      <td>402.0</td>\n",
       "      <td>01</td>\n",
       "      <td>D</td>\n",
       "      <td>S</td>\n",
       "    </tr>\n",
       "    <tr>\n",
       "      <th>...</th>\n",
       "      <td>...</td>\n",
       "      <td>...</td>\n",
       "      <td>...</td>\n",
       "      <td>...</td>\n",
       "      <td>...</td>\n",
       "      <td>...</td>\n",
       "      <td>...</td>\n",
       "      <td>...</td>\n",
       "      <td>...</td>\n",
       "      <td>...</td>\n",
       "      <td>...</td>\n",
       "      <td>...</td>\n",
       "      <td>...</td>\n",
       "    </tr>\n",
       "    <tr>\n",
       "      <th>8489</th>\n",
       "      <td>NaN</td>\n",
       "      <td>1.0</td>\n",
       "      <td>23.0</td>\n",
       "      <td>0.0</td>\n",
       "      <td>0.0</td>\n",
       "      <td>0.0</td>\n",
       "      <td>0.0</td>\n",
       "      <td>0.0</td>\n",
       "      <td>1</td>\n",
       "      <td>9072.0</td>\n",
       "      <td>01</td>\n",
       "      <td>F</td>\n",
       "      <td>S</td>\n",
       "    </tr>\n",
       "    <tr>\n",
       "      <th>8515</th>\n",
       "      <td>NaN</td>\n",
       "      <td>0.0</td>\n",
       "      <td>25.0</td>\n",
       "      <td>1258.0</td>\n",
       "      <td>0.0</td>\n",
       "      <td>22.0</td>\n",
       "      <td>19.0</td>\n",
       "      <td>0.0</td>\n",
       "      <td>0</td>\n",
       "      <td>9084.0</td>\n",
       "      <td>01</td>\n",
       "      <td>E</td>\n",
       "      <td>P</td>\n",
       "    </tr>\n",
       "    <tr>\n",
       "      <th>8613</th>\n",
       "      <td>NaN</td>\n",
       "      <td>0.0</td>\n",
       "      <td>53.0</td>\n",
       "      <td>0.0</td>\n",
       "      <td>4017.0</td>\n",
       "      <td>0.0</td>\n",
       "      <td>13.0</td>\n",
       "      <td>3147.0</td>\n",
       "      <td>0</td>\n",
       "      <td>9194.0</td>\n",
       "      <td>01</td>\n",
       "      <td>E</td>\n",
       "      <td>S</td>\n",
       "    </tr>\n",
       "    <tr>\n",
       "      <th>8666</th>\n",
       "      <td>NaN</td>\n",
       "      <td>0.0</td>\n",
       "      <td>38.0</td>\n",
       "      <td>28.0</td>\n",
       "      <td>1208.0</td>\n",
       "      <td>973.0</td>\n",
       "      <td>207.0</td>\n",
       "      <td>0.0</td>\n",
       "      <td>1</td>\n",
       "      <td>9248.0</td>\n",
       "      <td>01</td>\n",
       "      <td>F</td>\n",
       "      <td>S</td>\n",
       "    </tr>\n",
       "    <tr>\n",
       "      <th>8674</th>\n",
       "      <td>NaN</td>\n",
       "      <td>0.0</td>\n",
       "      <td>13.0</td>\n",
       "      <td>39.0</td>\n",
       "      <td>0.0</td>\n",
       "      <td>1085.0</td>\n",
       "      <td>24.0</td>\n",
       "      <td>0.0</td>\n",
       "      <td>0</td>\n",
       "      <td>9257.0</td>\n",
       "      <td>01</td>\n",
       "      <td>F</td>\n",
       "      <td>P</td>\n",
       "    </tr>\n",
       "  </tbody>\n",
       "</table>\n",
       "<p>103 rows × 13 columns</p>\n",
       "</div>"
      ],
      "text/plain": [
       "     HomePlanet CryoSleep   Age  RoomService  FoodCourt  ShoppingMall    Spa  \\\n",
       "59          NaN       1.0  33.0          0.0        0.0           0.0    0.0   \n",
       "186         NaN       1.0  24.0          0.0        0.0           0.0    0.0   \n",
       "225         NaN       0.0  18.0        313.0        1.0         691.0  283.0   \n",
       "291         NaN       0.0  59.0       1018.0        0.0         209.0    0.0   \n",
       "365         NaN       1.0  32.0          0.0        0.0           0.0    0.0   \n",
       "...         ...       ...   ...          ...        ...           ...    ...   \n",
       "8489        NaN       1.0  23.0          0.0        0.0           0.0    0.0   \n",
       "8515        NaN       0.0  25.0       1258.0        0.0          22.0   19.0   \n",
       "8613        NaN       0.0  53.0          0.0     4017.0           0.0   13.0   \n",
       "8666        NaN       0.0  38.0         28.0     1208.0         973.0  207.0   \n",
       "8674        NaN       0.0  13.0         39.0        0.0        1085.0   24.0   \n",
       "\n",
       "      VRDeck  Transported  GroupId IdWithinGroup Deck Side  \n",
       "59       0.0            1     64.0            02    E    S  \n",
       "186      0.0            1    210.0            01    D    P  \n",
       "225      0.0            0    242.0            01    F    S  \n",
       "291      0.0            0    321.0            01    F    S  \n",
       "365      0.0            1    402.0            01    D    S  \n",
       "...      ...          ...      ...           ...  ...  ...  \n",
       "8489     0.0            1   9072.0            01    F    S  \n",
       "8515     0.0            0   9084.0            01    E    P  \n",
       "8613  3147.0            0   9194.0            01    E    S  \n",
       "8666     0.0            1   9248.0            01    F    S  \n",
       "8674     0.0            0   9257.0            01    F    P  \n",
       "\n",
       "[103 rows x 13 columns]"
      ]
     },
     "execution_count": 27,
     "metadata": {},
     "output_type": "execute_result"
    }
   ],
   "source": [
    "train[train['HomePlanet'].isnull()]"
   ]
  },
  {
   "cell_type": "code",
   "execution_count": 28,
   "id": "ad768270-b507-4d45-8959-fb9119c14e6a",
   "metadata": {},
   "outputs": [],
   "source": [
    "train = train[~ (train['Side'].isnull())]\n",
    "test = test[~ (test['Side'].isnull())]\n",
    "train = train[~ (train['HomePlanet'].isnull())]\n",
    "test = test[~ (test['HomePlanet'].isnull())]"
   ]
  },
  {
   "cell_type": "code",
   "execution_count": 29,
   "id": "702b040f-8228-41d8-bf27-90df99b743d6",
   "metadata": {},
   "outputs": [
    {
     "data": {
      "text/plain": [
       "(8391, 13)"
      ]
     },
     "execution_count": 29,
     "metadata": {},
     "output_type": "execute_result"
    }
   ],
   "source": [
    "train.shape"
   ]
  },
  {
   "cell_type": "code",
   "execution_count": 30,
   "id": "9a19a6fb-7cb4-4902-9f44-7724e30dc4e7",
   "metadata": {},
   "outputs": [
    {
     "data": {
      "text/plain": [
       "HomePlanet       0\n",
       "CryoSleep        0\n",
       "Age              0\n",
       "RoomService      0\n",
       "FoodCourt        0\n",
       "ShoppingMall     0\n",
       "Spa              0\n",
       "VRDeck           0\n",
       "Transported      0\n",
       "GroupId          0\n",
       "IdWithinGroup    0\n",
       "Deck             0\n",
       "Side             0\n",
       "dtype: int64"
      ]
     },
     "execution_count": 30,
     "metadata": {},
     "output_type": "execute_result"
    }
   ],
   "source": [
    "train.isnull().sum()"
   ]
  },
  {
   "cell_type": "code",
   "execution_count": 31,
   "id": "cdedb2d2-14f8-4ddc-9536-3cde2d9ae999",
   "metadata": {},
   "outputs": [
    {
     "data": {
      "text/plain": [
       "HomePlanet       0\n",
       "CryoSleep        0\n",
       "Age              0\n",
       "RoomService      0\n",
       "FoodCourt        0\n",
       "ShoppingMall     0\n",
       "Spa              0\n",
       "VRDeck           0\n",
       "Transported      0\n",
       "GroupId          0\n",
       "IdWithinGroup    0\n",
       "Deck             0\n",
       "Side             0\n",
       "dtype: int64"
      ]
     },
     "execution_count": 31,
     "metadata": {},
     "output_type": "execute_result"
    }
   ],
   "source": [
    "test.isnull().sum()"
   ]
  },
  {
   "cell_type": "code",
   "execution_count": 32,
   "id": "76a76bd3-6cb5-43f4-9a37-bdc6111f8a67",
   "metadata": {},
   "outputs": [],
   "source": [
    "# D = 'Mars', 'Europa'\n",
    "# E = 'Earth', 'Mars', 'Europa'\n",
    "# F = 'Earth', 'Mars'"
   ]
  },
  {
   "cell_type": "code",
   "execution_count": 33,
   "id": "bde9a389-6458-4784-8c6c-c5e7f6df6548",
   "metadata": {},
   "outputs": [],
   "source": [
    "train = train.drop(['HomePlanet', 'Deck', 'Side'], axis=1)\n",
    "test = test.drop(['HomePlanet', 'Deck', 'Side'], axis=1)"
   ]
  },
  {
   "cell_type": "code",
   "execution_count": 34,
   "id": "b0d7161f-5fe1-487d-8b6b-a7af563a41dc",
   "metadata": {},
   "outputs": [],
   "source": [
    "X_train = np.asarray(train.drop(['Transported'], axis=1)).astype('float32')\n",
    "y_train = np.asarray(train['Transported'])\n",
    "X_test = np.asarray(test.drop(['Transported'], axis=1)).astype('float32')\n",
    "y_test = np.asarray(test['Transported'])"
   ]
  },
  {
   "cell_type": "code",
   "execution_count": 35,
   "id": "598eb00b-f51b-4b05-bc1f-338125e7d2bd",
   "metadata": {},
   "outputs": [
    {
     "data": {
      "text/plain": [
       "array([0, 1, 0, ..., 1, 0, 1], dtype=int64)"
      ]
     },
     "execution_count": 35,
     "metadata": {},
     "output_type": "execute_result"
    }
   ],
   "source": [
    "y_train"
   ]
  },
  {
   "cell_type": "code",
   "execution_count": 36,
   "id": "cc09b896-7429-478c-9774-f87689e9f99b",
   "metadata": {},
   "outputs": [
    {
     "data": {
      "text/plain": [
       "(8391, 9)"
      ]
     },
     "execution_count": 36,
     "metadata": {},
     "output_type": "execute_result"
    }
   ],
   "source": [
    "X_train.shape"
   ]
  },
  {
   "cell_type": "code",
   "execution_count": 37,
   "id": "de733a41-334c-4dcf-bf97-3b6a5b7c682e",
   "metadata": {},
   "outputs": [
    {
     "data": {
      "text/plain": [
       "(8391,)"
      ]
     },
     "execution_count": 37,
     "metadata": {},
     "output_type": "execute_result"
    }
   ],
   "source": [
    "y_train.shape"
   ]
  },
  {
   "cell_type": "code",
   "execution_count": 38,
   "id": "3781e75d-34ac-4e6e-9bda-9a4fe8b10ddb",
   "metadata": {},
   "outputs": [
    {
     "data": {
      "text/plain": [
       "(4127, 9)"
      ]
     },
     "execution_count": 38,
     "metadata": {},
     "output_type": "execute_result"
    }
   ],
   "source": [
    "X_test.shape"
   ]
  },
  {
   "cell_type": "code",
   "execution_count": 39,
   "id": "327ec36c-070f-42b7-94d2-453f1f425061",
   "metadata": {},
   "outputs": [
    {
     "data": {
      "text/plain": [
       "(4127,)"
      ]
     },
     "execution_count": 39,
     "metadata": {},
     "output_type": "execute_result"
    }
   ],
   "source": [
    "y_test.shape"
   ]
  },
  {
   "cell_type": "code",
   "execution_count": 65,
   "id": "303202e3-4990-4831-9b50-fc1020e9568f",
   "metadata": {},
   "outputs": [],
   "source": [
    "model = Sequential()\n",
    "model.add(Dense(128, activation='relu', input_shape=(X_train.shape[1],)))\n",
    "model.add(Dropout(0.2))\n",
    "model.add(Dense(1))"
   ]
  },
  {
   "cell_type": "code",
   "execution_count": 66,
   "id": "b0279308-da02-46dd-bc8b-951a15d8a9ce",
   "metadata": {},
   "outputs": [],
   "source": [
    "model.compile(loss='categorical_crossentropy', optimizer='adam', metrics=['accuracy'])"
   ]
  },
  {
   "cell_type": "code",
   "execution_count": 67,
   "id": "3b6ae378-4801-4cb9-9ed9-e13dd5c47616",
   "metadata": {},
   "outputs": [
    {
     "name": "stdout",
     "output_type": "stream",
     "text": [
      "Epoch 1/10\n",
      "66/66 [==============================] - 1s 3ms/step - loss: 6.0081e-08 - accuracy: 0.4823 - val_loss: 0.0000e+00 - val_accuracy: 0.9714\n",
      "Epoch 2/10\n",
      "66/66 [==============================] - 0s 2ms/step - loss: 6.0081e-08 - accuracy: 0.4830 - val_loss: 0.0000e+00 - val_accuracy: 0.9714\n",
      "Epoch 3/10\n",
      "66/66 [==============================] - 0s 1ms/step - loss: 6.0081e-08 - accuracy: 0.4840 - val_loss: 0.0000e+00 - val_accuracy: 0.9714\n",
      "Epoch 4/10\n",
      "66/66 [==============================] - 0s 1ms/step - loss: 6.0081e-08 - accuracy: 0.4833 - val_loss: 0.0000e+00 - val_accuracy: 0.9714\n",
      "Epoch 5/10\n",
      "66/66 [==============================] - 0s 1ms/step - loss: 6.0081e-08 - accuracy: 0.4822 - val_loss: 0.0000e+00 - val_accuracy: 0.9714\n",
      "Epoch 6/10\n",
      "66/66 [==============================] - 0s 1ms/step - loss: 6.0081e-08 - accuracy: 0.4824 - val_loss: 0.0000e+00 - val_accuracy: 0.9714\n",
      "Epoch 7/10\n",
      "66/66 [==============================] - 0s 1ms/step - loss: 6.0081e-08 - accuracy: 0.4828 - val_loss: 0.0000e+00 - val_accuracy: 0.9714\n",
      "Epoch 8/10\n",
      "66/66 [==============================] - 0s 1ms/step - loss: 6.0081e-08 - accuracy: 0.4821 - val_loss: 0.0000e+00 - val_accuracy: 0.9714\n",
      "Epoch 9/10\n",
      "66/66 [==============================] - 0s 1ms/step - loss: 6.0081e-08 - accuracy: 0.4840 - val_loss: 0.0000e+00 - val_accuracy: 0.9714\n",
      "Epoch 10/10\n",
      "66/66 [==============================] - 0s 1ms/step - loss: 6.0081e-08 - accuracy: 0.4841 - val_loss: 0.0000e+00 - val_accuracy: 0.9714\n"
     ]
    },
    {
     "data": {
      "text/plain": [
       "<keras.src.callbacks.History at 0x1c3aa547490>"
      ]
     },
     "execution_count": 67,
     "metadata": {},
     "output_type": "execute_result"
    }
   ],
   "source": [
    "model.fit(X_train, y_train, epochs=10, batch_size=128, validation_data=(X_test, y_test))"
   ]
  },
  {
   "cell_type": "code",
   "execution_count": 68,
   "id": "2291c5d0-8383-4671-adf2-4e5fcfd2e960",
   "metadata": {},
   "outputs": [
    {
     "name": "stdout",
     "output_type": "stream",
     "text": [
      "Test loss: 0.0\n",
      "Test accuracy: 0.9714078307151794\n"
     ]
    }
   ],
   "source": [
    "score = model.evaluate(X_test, y_test, verbose=0)\n",
    "print('Test loss:', score[0])\n",
    "print('Test accuracy:', score[1])"
   ]
  },
  {
   "cell_type": "code",
   "execution_count": 64,
   "id": "99918b01-afd9-4da7-a0d9-8e1f70c53a0d",
   "metadata": {},
   "outputs": [],
   "source": [
    "# model2 = Sequential()\n",
    "# model2.add(Dense(128, activation='relu', input_shape=(X_train.shape[1],)))\n",
    "# model2.add(Dropout(0.2))\n",
    "# model2.add(Dense(10))"
   ]
  },
  {
   "cell_type": "code",
   "execution_count": 45,
   "id": "b0369891-edb4-4544-906b-98dfdeec2782",
   "metadata": {},
   "outputs": [],
   "source": [
    "# model2.compile(loss='categorical_crossentropy', optimizer='adam', metrics=['accuracy'])"
   ]
  },
  {
   "cell_type": "code",
   "execution_count": 46,
   "id": "778e4b53-9df1-4e40-a3db-39795fe53354",
   "metadata": {},
   "outputs": [],
   "source": [
    "# model2.fit(X_train, y_train, epochs=100, batch_size=128, validation_data=(X_test, y_test))"
   ]
  },
  {
   "cell_type": "code",
   "execution_count": 47,
   "id": "bf04d60d-12a1-4646-8d60-206bbfba8461",
   "metadata": {},
   "outputs": [],
   "source": [
    "# score = model2.evaluate(X_test, y_test, verbose=0)\n",
    "# print('Test loss:', score[0])\n",
    "# print('Test accuracy:', score[1])"
   ]
  },
  {
   "cell_type": "code",
   "execution_count": 48,
   "id": "14a3545d-8eaf-4a04-983d-9152a9e98708",
   "metadata": {},
   "outputs": [],
   "source": [
    "# model.save('model_accuracy_1_0.keras')\n",
    "# model2.save('model_accuracy_0_97.keras')"
   ]
  },
  {
   "cell_type": "code",
   "execution_count": 49,
   "id": "90b6efb3-1af8-4be4-88c4-19cf692d792c",
   "metadata": {},
   "outputs": [],
   "source": [
    "# from keras.models import load_model\n",
    "\n",
    "# model_o = load_model('model_accuracy_0_97.keras')"
   ]
  },
  {
   "cell_type": "code",
   "execution_count": 50,
   "id": "e7b322ef-9147-488b-9071-d83cb811488a",
   "metadata": {},
   "outputs": [],
   "source": [
    "# score = model_o.evaluate(X_test, y_test, verbose=0)\n",
    "# print('Test loss:', score[0])\n",
    "# print('Test accuracy:', score[1])"
   ]
  },
  {
   "cell_type": "code",
   "execution_count": null,
   "id": "5826f89f-8f6c-4c4c-abf3-eacb6d4125df",
   "metadata": {},
   "outputs": [],
   "source": []
  }
 ],
 "metadata": {
  "kernelspec": {
   "display_name": "Python 3 (ipykernel)",
   "language": "python",
   "name": "python3"
  },
  "language_info": {
   "codemirror_mode": {
    "name": "ipython",
    "version": 3
   },
   "file_extension": ".py",
   "mimetype": "text/x-python",
   "name": "python",
   "nbconvert_exporter": "python",
   "pygments_lexer": "ipython3",
   "version": "3.8.3"
  }
 },
 "nbformat": 4,
 "nbformat_minor": 5
}
